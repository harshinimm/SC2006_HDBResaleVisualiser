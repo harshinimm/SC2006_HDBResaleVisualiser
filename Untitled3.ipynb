{
 "cells": [
  {
   "cell_type": "markdown",
   "id": "6388c24c-6406-4ac3-8709-49367a107a5b",
   "metadata": {},
   "source": [
    "# HDB RESALE PRICE DATA VISUALIZATION"
   ]
  },
  {
   "cell_type": "code",
   "execution_count": null,
   "id": "576b3aab-008e-4a31-b05f-76f8bde85f05",
   "metadata": {},
   "outputs": [],
   "source": []
  },
  {
   "cell_type": "code",
   "execution_count": null,
   "id": "2b774323-124d-4cf4-b6cb-d89b05ef18eb",
   "metadata": {},
   "outputs": [],
   "source": []
  }
 ],
 "metadata": {
  "kernelspec": {
   "display_name": "Python 3 (ipykernel)",
   "language": "python",
   "name": "python3"
  },
  "language_info": {
   "codemirror_mode": {
    "name": "ipython",
    "version": 3
   },
   "file_extension": ".py",
   "mimetype": "text/x-python",
   "name": "python",
   "nbconvert_exporter": "python",
   "pygments_lexer": "ipython3",
   "version": "3.11.5"
  }
 },
 "nbformat": 4,
 "nbformat_minor": 5
}
